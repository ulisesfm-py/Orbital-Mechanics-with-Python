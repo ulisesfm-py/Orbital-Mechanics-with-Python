{
 "cells": [
  {
   "cell_type": "markdown",
   "metadata": {},
   "source": [
    "# Orbit Propagator Class\n",
    "\n",
    "## Planetary data file\n",
    "It is a file that contains different dictionaries for each planetary object with its important information"
   ]
  },
  {
   "cell_type": "code",
   "execution_count": null,
   "metadata": {},
   "outputs": [],
   "source": [
    "sun = {\n",
    "    'name': 'Sun',\n",
    "    'mass': 1.989e30,\n",
    "    'mu': 1.32712e11,\n",
    "    'radius':695700.0,\n",
    "}\n",
    "\n",
    "earth = {\n",
    "    'name': 'Earth',\n",
    "    'mass': 5.972e24,\n",
    "    'mu': 5.972e24*3.986e14,\n",
    "    'radius':6378.0,\n",
    "}"
   ]
  },
  {
   "cell_type": "markdown",
   "metadata": {},
   "source": []
  }
 ],
 "metadata": {
  "kernelspec": {
   "display_name": "orbit_env",
   "language": "python",
   "name": "python3"
  },
  "language_info": {
   "name": "python",
   "version": "3.10.15"
  }
 },
 "nbformat": 4,
 "nbformat_minor": 2
}
